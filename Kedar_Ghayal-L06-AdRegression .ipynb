{
 "cells": [
  {
   "cell_type": "markdown",
   "metadata": {},
   "source": [
    "# Lesson 6 Assignment - Advertising Sales Regression\n",
    "\n",
    "## Author - Kedar Ghayal\n",
    "\n"
   ]
  },
  {
   "cell_type": "markdown",
   "metadata": {},
   "source": [
    "### Instructions  \n",
    "Perform four different linear regressions on advertising sales data located in 'Advertising.csv'.  Your dependent feature is 'sales', a measure of sales of a product in a given market in thousands of dollars. \n",
    "\n",
    "The independent features for each of the first 3 separate regressions are:\n",
    "\n",
    " 1. 'TV': advertising dollars spent on TV ads for a single product in a given market\n",
    " 2. 'radio': advertising dollars spent on radio ads\n",
    " 3. 'newspaper': advertising dollars spent on newspaper ads\n",
    "\n",
    "For the first 3 linear regression performed:\n",
    "\n",
    "- Produce a labeled graph showing the best fit line with the data points.\n",
    "- Interpret both the slope and y-intercept.\n",
    " \n",
    "The final regression(#4) includes all 3 features: (a) TV, (b) radio, and (c) newspaper. \n",
    "- Interpret each partial slope and the intercept parameters.\n",
    "- Interpret the adjusted R-squared.\n",
    "- Find and report the mean-squared error.\n",
    "\n",
    "#### Please prepare this information for a client who may not understand what the parameters mean.\n"
   ]
  },
  {
   "cell_type": "code",
   "execution_count": 44,
   "metadata": {},
   "outputs": [],
   "source": [
    "# Import libraries\n",
    "import numpy as np\n",
    "import pandas as pd\n",
    "import matplotlib.pyplot as plt\n",
    "%matplotlib inline\n",
    "pd.options.mode.chained_assignment = None "
   ]
  },
  {
   "cell_type": "code",
   "execution_count": 45,
   "metadata": {},
   "outputs": [
    {
     "name": "stdout",
     "output_type": "stream",
     "text": [
      "      TV  radio  newspaper  sales\n",
      "1  230.1   37.8       69.2   22.1\n",
      "2   44.5   39.3       45.1   10.4\n",
      "3   17.2   45.9       69.3    9.3\n",
      "4  151.5   41.3       58.5   18.5\n",
      "5  180.8   10.8       58.4   12.9\n",
      "(200, 4)\n"
     ]
    },
    {
     "data": {
      "text/html": [
       "<div>\n",
       "<style scoped>\n",
       "    .dataframe tbody tr th:only-of-type {\n",
       "        vertical-align: middle;\n",
       "    }\n",
       "\n",
       "    .dataframe tbody tr th {\n",
       "        vertical-align: top;\n",
       "    }\n",
       "\n",
       "    .dataframe thead th {\n",
       "        text-align: right;\n",
       "    }\n",
       "</style>\n",
       "<table border=\"1\" class=\"dataframe\">\n",
       "  <thead>\n",
       "    <tr style=\"text-align: right;\">\n",
       "      <th></th>\n",
       "      <th>TV</th>\n",
       "      <th>radio</th>\n",
       "      <th>newspaper</th>\n",
       "      <th>sales</th>\n",
       "    </tr>\n",
       "  </thead>\n",
       "  <tbody>\n",
       "    <tr>\n",
       "      <th>count</th>\n",
       "      <td>200.000000</td>\n",
       "      <td>200.000000</td>\n",
       "      <td>200.000000</td>\n",
       "      <td>200.000000</td>\n",
       "    </tr>\n",
       "    <tr>\n",
       "      <th>mean</th>\n",
       "      <td>147.042500</td>\n",
       "      <td>23.264000</td>\n",
       "      <td>30.554000</td>\n",
       "      <td>14.022500</td>\n",
       "    </tr>\n",
       "    <tr>\n",
       "      <th>std</th>\n",
       "      <td>85.854236</td>\n",
       "      <td>14.846809</td>\n",
       "      <td>21.778621</td>\n",
       "      <td>5.217457</td>\n",
       "    </tr>\n",
       "    <tr>\n",
       "      <th>min</th>\n",
       "      <td>0.700000</td>\n",
       "      <td>0.000000</td>\n",
       "      <td>0.300000</td>\n",
       "      <td>1.600000</td>\n",
       "    </tr>\n",
       "    <tr>\n",
       "      <th>25%</th>\n",
       "      <td>74.375000</td>\n",
       "      <td>9.975000</td>\n",
       "      <td>12.750000</td>\n",
       "      <td>10.375000</td>\n",
       "    </tr>\n",
       "    <tr>\n",
       "      <th>50%</th>\n",
       "      <td>149.750000</td>\n",
       "      <td>22.900000</td>\n",
       "      <td>25.750000</td>\n",
       "      <td>12.900000</td>\n",
       "    </tr>\n",
       "    <tr>\n",
       "      <th>75%</th>\n",
       "      <td>218.825000</td>\n",
       "      <td>36.525000</td>\n",
       "      <td>45.100000</td>\n",
       "      <td>17.400000</td>\n",
       "    </tr>\n",
       "    <tr>\n",
       "      <th>max</th>\n",
       "      <td>296.400000</td>\n",
       "      <td>49.600000</td>\n",
       "      <td>114.000000</td>\n",
       "      <td>27.000000</td>\n",
       "    </tr>\n",
       "  </tbody>\n",
       "</table>\n",
       "</div>"
      ],
      "text/plain": [
       "               TV       radio   newspaper       sales\n",
       "count  200.000000  200.000000  200.000000  200.000000\n",
       "mean   147.042500   23.264000   30.554000   14.022500\n",
       "std     85.854236   14.846809   21.778621    5.217457\n",
       "min      0.700000    0.000000    0.300000    1.600000\n",
       "25%     74.375000    9.975000   12.750000   10.375000\n",
       "50%    149.750000   22.900000   25.750000   12.900000\n",
       "75%    218.825000   36.525000   45.100000   17.400000\n",
       "max    296.400000   49.600000  114.000000   27.000000"
      ]
     },
     "execution_count": 45,
     "metadata": {},
     "output_type": "execute_result"
    }
   ],
   "source": [
    "# Load data\n",
    "filename = 'https://library.startlearninglabs.uw.edu/DATASCI410/Datasets/Advertising.csv'\n",
    "ad_data = pd.read_csv(filename, index_col=0)\n",
    "print(ad_data.head())\n",
    "print(ad_data.shape)\n",
    "ad_data.describe()"
   ]
  },
  {
   "cell_type": "code",
   "execution_count": 46,
   "metadata": {},
   "outputs": [
    {
     "name": "stdout",
     "output_type": "stream",
     "text": [
      "Intercept: 14.02250\n",
      "Slope : 4.08122\n"
     ]
    },
    {
     "data": {
      "image/png": "[encoded data removed]",
      "text/plain": [
       "<Figure size 432x288 with 1 Axes>"
      ]
     },
     "metadata": {
      "needs_background": "light"
     },
     "output_type": "display_data"
    }
   ],
   "source": [
    "# Linear regression of sales using TV advertiing dollars as a feature.\n",
    "import statsmodels.formula.api as sm\n",
    "vars =['TV' , 'sales']\n",
    "df_reg1 = ad_data[vars]\n",
    "\n",
    "# Normalize the data\n",
    "mean = df_reg1['TV'].mean()\n",
    "std = df_reg1['TV'].std()\n",
    "df_reg1['TV'] = (df_reg1['TV'] - mean )/std\n",
    "    \n",
    "ols_model = sm.ols(formula = 'sales ~ TV', data=df_reg1)\n",
    "\n",
    "results = ols_model.fit()\n",
    "\n",
    "# Get slope (m) and y-intercept (b)\n",
    "print('Intercept: {0:.5f}'.format(results.params.Intercept))\n",
    "print('Slope : {0:.5f}'.format(results.params.TV))\n",
    "\n",
    "sales_pred = ols_model.fit().predict(df_reg1['TV'])\n",
    "plt.scatter(df_reg1['TV'], df_reg1['sales'])\n",
    "plt.plot(df_reg1['TV'], sales_pred, linewidth=2 , c = 'red')\n",
    "plt.grid(True)\n",
    "plt.xlabel('TV advertising dollars')\n",
    "plt.ylabel('Sales')\n",
    "plt.title('TV advertising dollars vs Sales')\n",
    "plt.show()"
   ]
  },
  {
   "cell_type": "code",
   "execution_count": 47,
   "metadata": {},
   "outputs": [
    {
     "name": "stdout",
     "output_type": "stream",
     "text": [
      "Intercept: 14.02250\n",
      "Slope : 3.00642\n"
     ]
    },
    {
     "data": {
      "image/png": "[encoded data removed]",
      "text/plain": [
       "<Figure size 432x288 with 1 Axes>"
      ]
     },
     "metadata": {
      "needs_background": "light"
     },
     "output_type": "display_data"
    }
   ],
   "source": [
    "# Linear regression of sales using radio advertising dollars as a feature.\n",
    "import statsmodels.formula.api as sm\n",
    "vars =['radio' , 'sales']\n",
    "df_reg1 = ad_data[vars]\n",
    "\n",
    "# Normalize the data\n",
    "mean = df_reg1['radio'].mean()\n",
    "std = df_reg1['radio'].std()\n",
    "df_reg1['radio'] = (df_reg1['radio'] - mean )/std\n",
    "    \n",
    "ols_model = sm.ols(formula = 'sales ~ radio', data=df_reg1)\n",
    "\n",
    "results = ols_model.fit()\n",
    "\n",
    "# Get slope (m) and y-intercept (b)\n",
    "print('Intercept: {0:.5f}'.format(results.params.Intercept))\n",
    "print('Slope : {0:.5f}'.format(results.params.radio))\n",
    "\n",
    "sales_pred = ols_model.fit().predict(df_reg1['radio'])\n",
    "plt.scatter(df_reg1['radio'], df_reg1['sales'])\n",
    "plt.plot(df_reg1['radio'], sales_pred, linewidth=2 , c = 'red')\n",
    "plt.grid(True)\n",
    "plt.xlabel('Radio advertising dollars')\n",
    "plt.ylabel('Sales')\n",
    "plt.title('Radio advertising dollars vs Sales')\n",
    "plt.show()"
   ]
  },
  {
   "cell_type": "code",
   "execution_count": 48,
   "metadata": {},
   "outputs": [
    {
     "name": "stdout",
     "output_type": "stream",
     "text": [
      "Intercept: 14.02250\n",
      "Slope : 1.19114\n"
     ]
    },
    {
     "data": {
      "image/png": "[encoded data removed]",
      "text/plain": [
       "<Figure size 432x288 with 1 Axes>"
      ]
     },
     "metadata": {
      "needs_background": "light"
     },
     "output_type": "display_data"
    }
   ],
   "source": [
    "# Linear regression of sales using newspaper advertising dollars as a feature.\n",
    "import statsmodels.formula.api as sm\n",
    "vars =['newspaper' , 'sales']\n",
    "df_reg1 = ad_data[vars]\n",
    "\n",
    "# Normalize the data\n",
    "mean = df_reg1['newspaper'].mean()\n",
    "std = df_reg1['newspaper'].std()\n",
    "df_reg1['newspaper'] = (df_reg1['newspaper'] - mean )/std\n",
    "    \n",
    "ols_model = sm.ols(formula = 'sales ~ newspaper', data=df_reg1)\n",
    "\n",
    "results = ols_model.fit()\n",
    "\n",
    "# Get slope (m) and y-intercept (b)\n",
    "print('Intercept: {0:.5f}'.format(results.params.Intercept))\n",
    "print('Slope : {0:.5f}'.format(results.params.newspaper))\n",
    "\n",
    "sales_pred = ols_model.fit().predict(df_reg1['newspaper'])\n",
    "plt.scatter(df_reg1['newspaper'], df_reg1['sales'])\n",
    "plt.plot(df_reg1['newspaper'], sales_pred, linewidth=2 , c = 'red')\n",
    "plt.grid(True)\n",
    "plt.xlabel('Newspaper advertising dollars')\n",
    "plt.ylabel('Sales')\n",
    "plt.title('Newspaper advertising dollars vs Sales')\n",
    "plt.show()"
   ]
  },
  {
   "cell_type": "markdown",
   "metadata": {},
   "source": [
    "# Inference 1 \n",
    "\n",
    "## From the 3 linear regressions done above:\n",
    "\n",
    "### 1) TV dollars vs Sales\n",
    "\n",
    "The baseline TV advertising spend is 147.025 units( Mean spend ) considered as 0.\n",
    "\n",
    "When the Dollars spent on TV advertising is at 0 (baseline value) , the average sales are around 14 units ( Y -intercept)\n",
    "\n",
    "For every unit increase/decrease in the normalized TV dollars spent above baseline, the Sales increase/decrease over the average by 4 units.\n",
    "\n",
    "### 2) Radio dollars vs sales\n",
    "\n",
    "The baseline radio advertising spend is 23.264 units( Mean spend ) considered as 0.\n",
    "\n",
    "When the Dollars spent on Radio advertising is is at 0 (baseline value) , the average sales are around 14 units ( Y -intercept)\n",
    "\n",
    "For every unit increase/decrease in the normalized Radio dollars spent, the Sales increase/decrease over the average by 3 units.\n",
    "\n",
    "### 3) Newspaper dollars vs sales\n",
    "\n",
    "The baseline newspaper advertising spend is 30.55 units( Mean spend ) considered as 0.\n",
    "\n",
    "When the Dollars spent on Newspaper advertising is at 0 (baseline value) , the average sales are around 14 units ( Y -intercept)\n",
    "\n",
    "For every unit increase/decrease in the normalized newspaper/decrease dollars spent, the Sales increase over the average by 1.19 units."
   ]
  },
  {
   "cell_type": "code",
   "execution_count": 49,
   "metadata": {},
   "outputs": [],
   "source": [
    "# Prepare the data for multiple regression & normalize the 3 features using standard scaler from sklearn.\n",
    "x = ad_data[['TV','radio','newspaper']]\n",
    "y = ad_data['sales']\n",
    "\n",
    "# Scale the data. We will use the scaler later\n",
    "from sklearn.preprocessing import StandardScaler\n",
    "scaler = StandardScaler()\n",
    "scaler.fit(x)\n",
    "x = scaler.transform(x)"
   ]
  },
  {
   "cell_type": "code",
   "execution_count": 50,
   "metadata": {},
   "outputs": [
    {
     "name": "stdout",
     "output_type": "stream",
     "text": [
      "                            OLS Regression Results                            \n",
      "==============================================================================\n",
      "Dep. Variable:                  sales   R-squared:                       0.897\n",
      "Model:                            OLS   Adj. R-squared:                  0.896\n",
      "Method:                 Least Squares   F-statistic:                     570.3\n",
      "Date:                Sat, 02 Jan 2021   Prob (F-statistic):           1.58e-96\n",
      "Time:                        17:40:28   Log-Likelihood:                -386.18\n",
      "No. Observations:                 200   AIC:                             780.4\n",
      "Df Residuals:                     196   BIC:                             793.6\n",
      "Df Model:                           3                                         \n",
      "Covariance Type:            nonrobust                                         \n",
      "==============================================================================\n",
      "                 coef    std err          t      P>|t|      [0.025      0.975]\n",
      "------------------------------------------------------------------------------\n",
      "const         14.0225      0.119    117.655      0.000      13.787      14.258\n",
      "x1             3.9193      0.119     32.809      0.000       3.684       4.155\n",
      "x2             2.7921      0.128     21.893      0.000       2.541       3.044\n",
      "x3            -0.0225      0.128     -0.177      0.860      -0.274       0.229\n",
      "==============================================================================\n",
      "Omnibus:                       60.414   Durbin-Watson:                   2.084\n",
      "Prob(Omnibus):                  0.000   Jarque-Bera (JB):              151.241\n",
      "Skew:                          -1.327   Prob(JB):                     1.44e-33\n",
      "Kurtosis:                       6.332   Cond. No.                         1.46\n",
      "==============================================================================\n",
      "\n",
      "Notes:\n",
      "[1] Standard Errors assume that the covariance matrix of the errors is correctly specified.\n",
      "MSE = 2.784126314510936\n"
     ]
    }
   ],
   "source": [
    "# Perform multiple regression using StatsModels\n",
    "import statsmodels.api as sm\n",
    "from sklearn.metrics import mean_squared_error,r2_score\n",
    "X = sm.add_constant(x) # adding a constant\n",
    " \n",
    "model = sm.OLS(y, X).fit()\n",
    "predictions = model.predict(X) \n",
    "MSE = mean_squared_error(y,predictions)\n",
    "print_model = model.summary()\n",
    "print(print_model)\n",
    "print( \"MSE = {0}\".format(MSE))"
   ]
  },
  {
   "cell_type": "markdown",
   "metadata": {},
   "source": [
    "# Inference 2\n",
    "\n",
    "## Multiple regression\n",
    "\n",
    "#### 1 ) From the multiple regression for Sales using all 3 features ( TV , radio, & newspaper spend) , we can conclude that when all the 3 spends are at their baselined 0 ( i.e. mean spend), the Sales are 14 units.\n",
    "\n",
    "#### 2) For each unit increase in TV spend , the sales increase/decrease by 3.9 units.\n",
    "\n",
    "#### 3) For each unit increase/decrease in Radio spend , the sales increase/decrease by 2.79 units.\n",
    "\n",
    "#### 4) The newspaper spend has a negligible impact on the sales. Also the P value is very high for the newspaper category.\n",
    "#### It implies that the newspaper category should be removed from the analysis.\n",
    "\n",
    "#### 5) The Adjusted R2 for the above regression is close to 90%. It means that the ad spend features explain 90% of the variability of the Sales\n",
    "\n",
    "#### 6) The Mean Squared Error for the multiple regression is around 2.78\n",
    "\n",
    "\n",
    "    "
   ]
  },
  {
   "cell_type": "code",
   "execution_count": null,
   "metadata": {},
   "outputs": [],
   "source": []
  }
 ],
 "metadata": {
  "kernelspec": {
   "display_name": "Python 3",
   "language": "python",
   "name": "python3"
  },
  "language_info": {
   "codemirror_mode": {
    "name": "ipython",
    "version": 3
   },
   "file_extension": ".py",
   "mimetype": "text/x-python",
   "name": "python",
   "nbconvert_exporter": "python",
   "pygments_lexer": "ipython3",
   "version": "3.8.5"
  }
 },
 "nbformat": 4,
 "nbformat_minor": 2
}
